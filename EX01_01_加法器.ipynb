{
  "nbformat": 4,
  "nbformat_minor": 0,
  "metadata": {
    "colab": {
      "provenance": [],
      "authorship_tag": "ABX9TyNFA/K9icd6lGRvbDo9lD1q",
      "include_colab_link": true
    },
    "kernelspec": {
      "name": "python3",
      "display_name": "Python 3"
    },
    "language_info": {
      "name": "python"
    }
  },
  "cells": [
    {
      "cell_type": "markdown",
      "metadata": {
        "id": "view-in-github",
        "colab_type": "text"
      },
      "source": [
        "<a href=\"https://colab.research.google.com/github/WhiteChocolate0/ProgramApplication/blob/main/EX01_01_%E5%8A%A0%E6%B3%95%E5%99%A8.ipynb\" target=\"_parent\"><img src=\"https://colab.research.google.com/assets/colab-badge.svg\" alt=\"Open In Colab\"/></a>"
      ]
    },
    {
      "cell_type": "markdown",
      "source": [
        "## EX01-01 加法器\n",
        "**由二個輸入取得二個整數，輸出二數相加結果**"
      ],
      "metadata": {
        "id": "2NRSYK0j37NZ"
      }
    },
    {
      "cell_type": "code",
      "execution_count": null,
      "metadata": {
        "id": "8yBVtd2BBqSe"
      },
      "outputs": [],
      "source": [
        "#取得整數一\n",
        "n1 = int(input())\n",
        "#取得整數二\n",
        "n2 = int(input())\n",
        "\n",
        "#把整數一和整數二相加\n",
        "tt = n1+n2\n",
        "\n",
        "#輸出結果\n",
        "print(tt)"
      ]
    }
  ]
}