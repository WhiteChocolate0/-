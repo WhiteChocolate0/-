{
  "nbformat": 4,
  "nbformat_minor": 0,
  "metadata": {
    "colab": {
      "provenance": [],
      "authorship_tag": "ABX9TyNqPfXmU/zrpSkCwOJYhQ0k",
      "include_colab_link": true
    },
    "kernelspec": {
      "name": "python3",
      "display_name": "Python 3"
    },
    "language_info": {
      "name": "python"
    }
  },
  "cells": [
    {
      "cell_type": "markdown",
      "metadata": {
        "id": "view-in-github",
        "colab_type": "text"
      },
      "source": [
        "<a href=\"https://colab.research.google.com/github/WhiteChocolate0/ProgramApplication/blob/main/EX01_02_BMI_%E8%A8%88%E7%AE%97.ipynb\" target=\"_parent\"><img src=\"https://colab.research.google.com/assets/colab-badge.svg\" alt=\"Open In Colab\"/></a>"
      ]
    },
    {
      "cell_type": "markdown",
      "source": [
        "## EX01-02 BMI 計算\n",
        "**由輸入分別取得體重（kg）及身高（cm），輸出 BMI 值並四捨五入到小數點以下一位。**"
      ],
      "metadata": {
        "id": "9nm8_rwy5khO"
      }
    },
    {
      "cell_type": "code",
      "execution_count": null,
      "metadata": {
        "id": "s-h2T8wxLI8n"
      },
      "outputs": [],
      "source": [
        "ht = float( input('height(cm)'))\n",
        "wt = float( input('weight(kg)'))\n",
        "bmi = wt / (ht/100)**2\n",
        "print('BMI:', round(bmi, 1))"
      ]
    }
  ]
}