{
  "nbformat": 4,
  "nbformat_minor": 0,
  "metadata": {
    "colab": {
      "provenance": [],
      "authorship_tag": "ABX9TyPpaKgP3mGOwHUOEe6FyGLR",
      "include_colab_link": true
    },
    "kernelspec": {
      "name": "python3",
      "display_name": "Python 3"
    },
    "language_info": {
      "name": "python"
    }
  },
  "cells": [
    {
      "cell_type": "markdown",
      "metadata": {
        "id": "view-in-github",
        "colab_type": "text"
      },
      "source": [
        "<a href=\"https://colab.research.google.com/github/WhiteChocolate0/ProgramApplication/blob/main/EX01_04_%E7%B5%82%E6%A5%B5%E5%AF%86%E7%A2%BC.ipynb\" target=\"_parent\"><img src=\"https://colab.research.google.com/assets/colab-badge.svg\" alt=\"Open In Colab\"/></a>"
      ]
    },
    {
      "cell_type": "markdown",
      "source": [
        "## EX01-04 終極密碼\n",
        "**程式自動產生一個1~99的亂數**\n",
        "\n",
        "**程式顯示猜測範圍，並讓玩家輸入猜測的數字**\n",
        "* 如果輸入的數字超出範圍要顯示超出範圍\n",
        "* 如果沒猜中，顯示新的範圍並讓玩家一直猜到猜中數字為止"
      ],
      "metadata": {
        "id": "03PwYm1z5NLW"
      }
    },
    {
      "cell_type": "code",
      "execution_count": null,
      "metadata": {
        "id": "rviOf4er1Kkb"
      },
      "outputs": [],
      "source": [
        "import random\n",
        "bomb = random.randict(1,99)\n",
        "\n"
      ]
    }
  ]
}