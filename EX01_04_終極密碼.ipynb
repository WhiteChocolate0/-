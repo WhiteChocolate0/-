{
  "nbformat": 4,
  "nbformat_minor": 0,
  "metadata": {
    "colab": {
      "provenance": [],
      "authorship_tag": "ABX9TyP2qzKW2vquGQ9/mxRKyUwd",
      "include_colab_link": true
    },
    "kernelspec": {
      "name": "python3",
      "display_name": "Python 3"
    },
    "language_info": {
      "name": "python"
    }
  },
  "cells": [
    {
      "cell_type": "markdown",
      "metadata": {
        "id": "view-in-github",
        "colab_type": "text"
      },
      "source": [
        "<a href=\"https://colab.research.google.com/github/WhiteChocolate0/ProgramApplication/blob/main/EX01_04_%E7%B5%82%E6%A5%B5%E5%AF%86%E7%A2%BC.ipynb\" target=\"_parent\"><img src=\"https://colab.research.google.com/assets/colab-badge.svg\" alt=\"Open In Colab\"/></a>"
      ]
    },
    {
      "cell_type": "markdown",
      "source": [
        "## EX01-04 終極密碼\n",
        "**程式自動產生一個1~99的亂數**\n",
        "\n",
        "**程式顯示猜測範圍，並讓玩家輸入猜測的數字**\n",
        "* 如果輸入的數字超出範圍要顯示超出範圍\n",
        "* 如果沒猜中，顯示新的範圍並讓玩家一直猜到猜中數字為止"
      ],
      "metadata": {
        "id": "03PwYm1z5NLW"
      }
    },
    {
      "cell_type": "code",
      "source": [
        "import random\n",
        "bomb = random.randint(1, 99)\n",
        "\n",
        "left = 0\n",
        "right = 100\n",
        "\n",
        "qu = -1  # 初始化 qu，不會影響遊戲進行\n",
        "\n",
        "while qu != bomb:\n",
        "    print(left, '-', right)\n",
        "    qu = int(input('guess: '))\n",
        "\n",
        "    if qu <= left or qu >= right:\n",
        "        print('超過範圍')\n",
        "    elif qu < bomb:\n",
        "        left = qu\n",
        "    elif qu > bomb:\n",
        "        right = qu\n",
        "    else:\n",
        "        print('猜中了!')\n",
        "        break"
      ],
      "metadata": {
        "colab": {
          "base_uri": "https://localhost:8080/"
        },
        "id": "JtqWWOYEH1Rl",
        "outputId": "20efd144-9b08-415d-c599-3d308c10661d"
      },
      "execution_count": 5,
      "outputs": [
        {
          "output_type": "stream",
          "name": "stdout",
          "text": [
            "0 - 100\n",
            "guess: 50\n",
            "0 - 50\n",
            "guess: 30\n",
            "猜中了!\n"
          ]
        }
      ]
    }
  ]
}