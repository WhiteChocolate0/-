{
  "nbformat": 4,
  "nbformat_minor": 0,
  "metadata": {
    "colab": {
      "provenance": [],
      "authorship_tag": "ABX9TyMeQWWQZVPbolOI4we3c2fW",
      "include_colab_link": true
    },
    "kernelspec": {
      "name": "python3",
      "display_name": "Python 3"
    },
    "language_info": {
      "name": "python"
    }
  },
  "cells": [
    {
      "cell_type": "markdown",
      "metadata": {
        "id": "view-in-github",
        "colab_type": "text"
      },
      "source": [
        "<a href=\"https://colab.research.google.com/github/WhiteChocolate0/ProgramApplication/blob/main/EX01_06_%E7%B0%A1%E6%98%93%E8%B3%BC%E7%89%A9%E8%BB%8A.ipynb\" target=\"_parent\"><img src=\"https://colab.research.google.com/assets/colab-badge.svg\" alt=\"Open In Colab\"/></a>"
      ]
    },
    {
      "cell_type": "markdown",
      "source": [
        "## EX01-06 簡易購物車\n",
        "**請寫一個凱撒密碼加密解密器**\n",
        "\n",
        "* 實作一個簡易的購物車，能夠加入商品、移除商品、；結帳計算金額"
      ],
      "metadata": {
        "id": "WizN0TWwRZPJ"
      }
    },
    {
      "cell_type": "code",
      "execution_count": null,
      "metadata": {
        "id": "hNGgeqfMRTaH"
      },
      "outputs": [],
      "source": [
        "from IPython.display import clear_output\n",
        "shopping_cart = []\n",
        "products = { \"apple\":25, \"banana\":23, \"cherry\":30 }\n",
        "while True:\n",
        "  clear_output()\n",
        "  print('商品欄：', ','.join([f'{pd}/{pr}' for pd, pr in products.items()]) )\n",
        "  print('購物車：', ','.join(shopping_cart) )\n",
        "  print('功能列：', '1.新增商品 2.移除商品 3.結帳 4.離開')\n",
        "  act = input()\n",
        "  if act[0] == '1':\n",
        "    shopping_cart.append(act[1:])\n",
        "  elif act[0] == '2':\n",
        "    shopping_cart.remove(act[1:])\n",
        "  elif act[0] == '3':\n",
        "    tt = 0\n",
        "    for pd in shopping_cart:\n",
        "      tt += products[pd]\n",
        "    print('結帳金額：', tt)\n",
        "    break\n",
        "  else:\n",
        "    print('離開')\n",
        "    break"
      ]
    }
  ]
}