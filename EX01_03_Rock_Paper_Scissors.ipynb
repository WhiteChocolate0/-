{
  "nbformat": 4,
  "nbformat_minor": 0,
  "metadata": {
    "colab": {
      "provenance": [],
      "authorship_tag": "ABX9TyNoynS8zad/tkXkmwAvfbqI",
      "include_colab_link": true
    },
    "kernelspec": {
      "name": "python3",
      "display_name": "Python 3"
    },
    "language_info": {
      "name": "python"
    }
  },
  "cells": [
    {
      "cell_type": "markdown",
      "metadata": {
        "id": "view-in-github",
        "colab_type": "text"
      },
      "source": [
        "<a href=\"https://colab.research.google.com/github/WhiteChocolate0/ProgramApplication/blob/main/EX01_03_Rock_Paper_Scissors.ipynb\" target=\"_parent\"><img src=\"https://colab.research.google.com/assets/colab-badge.svg\" alt=\"Open In Colab\"/></a>"
      ]
    },
    {
      "cell_type": "markdown",
      "source": [
        "## EX01-03 Rock-Paper-Scissors\n",
        "**寫一支和電腦玩剪刀石頭布的遊戲**\n",
        "*   使用 0 代表石頭， 2 代表剪刀， 5 代表布\n",
        "*   使用 random.choice ([0, 2, 5]) 隨機挑選一數字代表電腦出拳\n",
        "*   使用 input() 由玩家輸入 0 、 2 、 5 代表玩家出拳\n",
        "*   輸出：\n",
        "  * Draw 平手\n",
        "  * You win 玩家贏\n",
        "  * You lost 玩家輸"
      ],
      "metadata": {
        "id": "V2V4O_7g62kz"
      }
    },
    {
      "cell_type": "code",
      "execution_count": null,
      "metadata": {
        "id": "n-hlxigtN_ZY"
      },
      "outputs": [],
      "source": [
        "import random\n",
        "\n",
        "choices = ['剪刀', '石頭', '布']\n",
        "print(\"歡迎來到剪刀石頭布遊戲!\")\n",
        "\n",
        "while True:\n",
        "  player_choice = input(\"請輸入 剪刀、石頭 或 布: \")\n",
        "  if player_choice not in choices:\n",
        "      print(\"無效輸入，請重新輸入。\")\n",
        "      continue\n",
        "\n",
        "  computer_choice = random.choice(choices)\n",
        "  print(f\"電腦選擇: {computer_choice}\")\n",
        "\n",
        "  if player_choice == computer_choice:\n",
        "      print(\"平手!\")\n",
        "  elif (player_choice == '剪刀' and computer_choice == '布') or \\\n",
        "        (player_choice == '石頭' and computer_choice == '剪刀') or \\\n",
        "        (player_choice == '布' and computer_choice == '石頭'):\n",
        "      print(\"你贏了!\")\n",
        "  else:\n",
        "      print(\"你輸了!\")"
      ]
    }
  ]
}