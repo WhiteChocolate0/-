{
  "nbformat": 4,
  "nbformat_minor": 0,
  "metadata": {
    "colab": {
      "provenance": [],
      "authorship_tag": "ABX9TyM2+kgrIn+VNAStvJw2w+p5",
      "include_colab_link": true
    },
    "kernelspec": {
      "name": "python3",
      "display_name": "Python 3"
    },
    "language_info": {
      "name": "python"
    }
  },
  "cells": [
    {
      "cell_type": "markdown",
      "metadata": {
        "id": "view-in-github",
        "colab_type": "text"
      },
      "source": [
        "<a href=\"https://colab.research.google.com/github/WhiteChocolate0/ProgramApplication/blob/main/EX01_07_%E7%BE%8E%E9%A3%9F%E8%B3%87%E8%A8%8A%E6%9F%A5%E8%A9%A2.ipynb\" target=\"_parent\"><img src=\"https://colab.research.google.com/assets/colab-badge.svg\" alt=\"Open In Colab\"/></a>"
      ]
    },
    {
      "cell_type": "code",
      "execution_count": null,
      "metadata": {
        "id": "9_vRmuho3X3I"
      },
      "outputs": [],
      "source": [
        "!pip install gradio"
      ]
    },
    {
      "cell_type": "code",
      "source": [
        "import gradio as gr\n",
        "food_database = [\n",
        "    {\"name\": \"春蘭割包\", \"address\": \"800高雄市新興區復興一路5號\", \"phone\": \"+88672017806\"},\n",
        "    {\"name\": \"上海生煎湯包\", \"address\": \"807高雄市三民區熱河一街208號\", \"phone\": \"+88673220702\"},\n",
        "    {\"name\": \"岡山舊市羊肉\", \"address\": \"820高雄市岡山區河華路111號\", \"phone\": \"+88676258151\"},\n",
        "    {\"name\": \"黃家肉燥飯\", \"address\": \"825高雄市橋頭區橋南路106號\", \"phone\": \"+88676123253\"},\n",
        "    {\"name\": \"龍記餡餅\", \"address\": \"820高雄市岡山區溪東路2號\", \"phone\": \"\"}\n",
        "]\n",
        "\n",
        "menu = []\n",
        "for im in food_database:\n",
        "  menu.append(im[\"name\"])\n",
        "print(menu)\n",
        "st = input()\n",
        "\n",
        "for im in food_database:\n",
        "  if im[\"name\"] == st:\n",
        "    print(im[\"name\"])\n",
        "    print(im[\"address\"])\n",
        "    print(im[\"phone\"])"
      ],
      "metadata": {
        "colab": {
          "base_uri": "https://localhost:8080/"
        },
        "id": "0kFDWxvI38DR",
        "outputId": "e8b1be8f-1e48-41f6-e4ab-a660b536b096"
      },
      "execution_count": 3,
      "outputs": [
        {
          "output_type": "stream",
          "name": "stdout",
          "text": [
            "['春蘭割包', '上海生煎湯包', '岡山舊市羊肉', '黃家肉燥飯', '龍記餡餅']\n",
            "岡山舊市羊肉\n",
            "820高雄市岡山區河華路111號\n",
            "+88676258151\n"
          ]
        }
      ]
    }
  ]
}